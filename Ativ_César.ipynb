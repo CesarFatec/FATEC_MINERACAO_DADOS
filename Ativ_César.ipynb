{
  "nbformat": 4,
  "nbformat_minor": 0,
  "metadata": {
    "colab": {
      "provenance": [],
      "include_colab_link": true
    },
    "kernelspec": {
      "name": "python3",
      "display_name": "Python 3"
    },
    "language_info": {
      "name": "python"
    }
  },
  "cells": [
    {
      "cell_type": "markdown",
      "metadata": {
        "id": "view-in-github",
        "colab_type": "text"
      },
      "source": [
        "<a href=\"https://colab.research.google.com/github/CesarFatec/FATEC_MINERACAO_DADOS/blob/main/Ativ_C%C3%A9sar.ipynb\" target=\"_parent\"><img src=\"https://colab.research.google.com/assets/colab-badge.svg\" alt=\"Open In Colab\"/></a>"
      ]
    },
    {
      "cell_type": "markdown",
      "source": [
        "### **Atividade Guiada do dia 05/10/2024**"
      ],
      "metadata": {
        "id": "r62bdsh58_eH"
      }
    },
    {
      "cell_type": "markdown",
      "source": [
        "### **Importar as bibliotecas e o CSV**"
      ],
      "metadata": {
        "id": "DnS9G5SwAjCZ"
      }
    },
    {
      "cell_type": "code",
      "execution_count": 12,
      "metadata": {
        "id": "Mp-CokkagtxM"
      },
      "outputs": [],
      "source": [
        "import pandas as pd\n",
        "import numpy as np\n",
        "import matplotlib.pyplot as plt\n",
        "import seaborn as sns"
      ]
    },
    {
      "cell_type": "markdown",
      "source": [
        "**Carregar o arquivo CSV**"
      ],
      "metadata": {
        "id": "Uw86g943Ap8P"
      }
    },
    {
      "cell_type": "code",
      "source": [
        "df = pd.read_csv(\"/content/car_price_prediction_.csv\")"
      ],
      "metadata": {
        "id": "J_L66_mF-4Nz"
      },
      "execution_count": 5,
      "outputs": []
    },
    {
      "cell_type": "markdown",
      "source": [
        "**Mostrar as primeiras linhas do dataset para inspeção**"
      ],
      "metadata": {
        "id": "mw9yuwipAk-7"
      }
    },
    {
      "cell_type": "code",
      "source": [
        "df.head()"
      ],
      "metadata": {
        "colab": {
          "base_uri": "https://localhost:8080/",
          "height": 206
        },
        "id": "jUTUK5WJ_my6",
        "outputId": "e2bd5e76-8a42-4d1c-cd2a-6a378bea655a"
      },
      "execution_count": 38,
      "outputs": [
        {
          "output_type": "execute_result",
          "data": {
            "text/plain": [
              "   Car ID  Brand  Year  Engine Size Fuel Type Transmission  Mileage Condition  \\\n",
              "0       1  Tesla  2016          2.3    Petrol       Manual   114832       New   \n",
              "1       2    BMW  2018          4.4  Electric       Manual   143190      Used   \n",
              "2       3   Audi  2013          4.5  Electric       Manual   181601       New   \n",
              "3       4  Tesla  2011          4.1    Diesel    Automatic    68682       New   \n",
              "4       5   Ford  2009          2.6    Diesel       Manual   223009  Like New   \n",
              "\n",
              "      Price     Model  \n",
              "0  26613.92   Model X  \n",
              "1  14679.61  5 Series  \n",
              "2  44402.61        A4  \n",
              "3  86374.33   Model Y  \n",
              "4  73577.10   Mustang  "
            ],
            "text/html": [
              "\n",
              "  <div id=\"df-0e0338e6-c513-4da5-b1bd-024c78e7bb51\" class=\"colab-df-container\">\n",
              "    <div>\n",
              "<style scoped>\n",
              "    .dataframe tbody tr th:only-of-type {\n",
              "        vertical-align: middle;\n",
              "    }\n",
              "\n",
              "    .dataframe tbody tr th {\n",
              "        vertical-align: top;\n",
              "    }\n",
              "\n",
              "    .dataframe thead th {\n",
              "        text-align: right;\n",
              "    }\n",
              "</style>\n",
              "<table border=\"1\" class=\"dataframe\">\n",
              "  <thead>\n",
              "    <tr style=\"text-align: right;\">\n",
              "      <th></th>\n",
              "      <th>Car ID</th>\n",
              "      <th>Brand</th>\n",
              "      <th>Year</th>\n",
              "      <th>Engine Size</th>\n",
              "      <th>Fuel Type</th>\n",
              "      <th>Transmission</th>\n",
              "      <th>Mileage</th>\n",
              "      <th>Condition</th>\n",
              "      <th>Price</th>\n",
              "      <th>Model</th>\n",
              "    </tr>\n",
              "  </thead>\n",
              "  <tbody>\n",
              "    <tr>\n",
              "      <th>0</th>\n",
              "      <td>1</td>\n",
              "      <td>Tesla</td>\n",
              "      <td>2016</td>\n",
              "      <td>2.3</td>\n",
              "      <td>Petrol</td>\n",
              "      <td>Manual</td>\n",
              "      <td>114832</td>\n",
              "      <td>New</td>\n",
              "      <td>26613.92</td>\n",
              "      <td>Model X</td>\n",
              "    </tr>\n",
              "    <tr>\n",
              "      <th>1</th>\n",
              "      <td>2</td>\n",
              "      <td>BMW</td>\n",
              "      <td>2018</td>\n",
              "      <td>4.4</td>\n",
              "      <td>Electric</td>\n",
              "      <td>Manual</td>\n",
              "      <td>143190</td>\n",
              "      <td>Used</td>\n",
              "      <td>14679.61</td>\n",
              "      <td>5 Series</td>\n",
              "    </tr>\n",
              "    <tr>\n",
              "      <th>2</th>\n",
              "      <td>3</td>\n",
              "      <td>Audi</td>\n",
              "      <td>2013</td>\n",
              "      <td>4.5</td>\n",
              "      <td>Electric</td>\n",
              "      <td>Manual</td>\n",
              "      <td>181601</td>\n",
              "      <td>New</td>\n",
              "      <td>44402.61</td>\n",
              "      <td>A4</td>\n",
              "    </tr>\n",
              "    <tr>\n",
              "      <th>3</th>\n",
              "      <td>4</td>\n",
              "      <td>Tesla</td>\n",
              "      <td>2011</td>\n",
              "      <td>4.1</td>\n",
              "      <td>Diesel</td>\n",
              "      <td>Automatic</td>\n",
              "      <td>68682</td>\n",
              "      <td>New</td>\n",
              "      <td>86374.33</td>\n",
              "      <td>Model Y</td>\n",
              "    </tr>\n",
              "    <tr>\n",
              "      <th>4</th>\n",
              "      <td>5</td>\n",
              "      <td>Ford</td>\n",
              "      <td>2009</td>\n",
              "      <td>2.6</td>\n",
              "      <td>Diesel</td>\n",
              "      <td>Manual</td>\n",
              "      <td>223009</td>\n",
              "      <td>Like New</td>\n",
              "      <td>73577.10</td>\n",
              "      <td>Mustang</td>\n",
              "    </tr>\n",
              "  </tbody>\n",
              "</table>\n",
              "</div>\n",
              "    <div class=\"colab-df-buttons\">\n",
              "\n",
              "  <div class=\"colab-df-container\">\n",
              "    <button class=\"colab-df-convert\" onclick=\"convertToInteractive('df-0e0338e6-c513-4da5-b1bd-024c78e7bb51')\"\n",
              "            title=\"Convert this dataframe to an interactive table.\"\n",
              "            style=\"display:none;\">\n",
              "\n",
              "  <svg xmlns=\"http://www.w3.org/2000/svg\" height=\"24px\" viewBox=\"0 -960 960 960\">\n",
              "    <path d=\"M120-120v-720h720v720H120Zm60-500h600v-160H180v160Zm220 220h160v-160H400v160Zm0 220h160v-160H400v160ZM180-400h160v-160H180v160Zm440 0h160v-160H620v160ZM180-180h160v-160H180v160Zm440 0h160v-160H620v160Z\"/>\n",
              "  </svg>\n",
              "    </button>\n",
              "\n",
              "  <style>\n",
              "    .colab-df-container {\n",
              "      display:flex;\n",
              "      gap: 12px;\n",
              "    }\n",
              "\n",
              "    .colab-df-convert {\n",
              "      background-color: #E8F0FE;\n",
              "      border: none;\n",
              "      border-radius: 50%;\n",
              "      cursor: pointer;\n",
              "      display: none;\n",
              "      fill: #1967D2;\n",
              "      height: 32px;\n",
              "      padding: 0 0 0 0;\n",
              "      width: 32px;\n",
              "    }\n",
              "\n",
              "    .colab-df-convert:hover {\n",
              "      background-color: #E2EBFA;\n",
              "      box-shadow: 0px 1px 2px rgba(60, 64, 67, 0.3), 0px 1px 3px 1px rgba(60, 64, 67, 0.15);\n",
              "      fill: #174EA6;\n",
              "    }\n",
              "\n",
              "    .colab-df-buttons div {\n",
              "      margin-bottom: 4px;\n",
              "    }\n",
              "\n",
              "    [theme=dark] .colab-df-convert {\n",
              "      background-color: #3B4455;\n",
              "      fill: #D2E3FC;\n",
              "    }\n",
              "\n",
              "    [theme=dark] .colab-df-convert:hover {\n",
              "      background-color: #434B5C;\n",
              "      box-shadow: 0px 1px 3px 1px rgba(0, 0, 0, 0.15);\n",
              "      filter: drop-shadow(0px 1px 2px rgba(0, 0, 0, 0.3));\n",
              "      fill: #FFFFFF;\n",
              "    }\n",
              "  </style>\n",
              "\n",
              "    <script>\n",
              "      const buttonEl =\n",
              "        document.querySelector('#df-0e0338e6-c513-4da5-b1bd-024c78e7bb51 button.colab-df-convert');\n",
              "      buttonEl.style.display =\n",
              "        google.colab.kernel.accessAllowed ? 'block' : 'none';\n",
              "\n",
              "      async function convertToInteractive(key) {\n",
              "        const element = document.querySelector('#df-0e0338e6-c513-4da5-b1bd-024c78e7bb51');\n",
              "        const dataTable =\n",
              "          await google.colab.kernel.invokeFunction('convertToInteractive',\n",
              "                                                    [key], {});\n",
              "        if (!dataTable) return;\n",
              "\n",
              "        const docLinkHtml = 'Like what you see? Visit the ' +\n",
              "          '<a target=\"_blank\" href=https://colab.research.google.com/notebooks/data_table.ipynb>data table notebook</a>'\n",
              "          + ' to learn more about interactive tables.';\n",
              "        element.innerHTML = '';\n",
              "        dataTable['output_type'] = 'display_data';\n",
              "        await google.colab.output.renderOutput(dataTable, element);\n",
              "        const docLink = document.createElement('div');\n",
              "        docLink.innerHTML = docLinkHtml;\n",
              "        element.appendChild(docLink);\n",
              "      }\n",
              "    </script>\n",
              "  </div>\n",
              "\n",
              "\n",
              "<div id=\"df-b221ccd8-cf82-4c03-abd1-ae18b475959b\">\n",
              "  <button class=\"colab-df-quickchart\" onclick=\"quickchart('df-b221ccd8-cf82-4c03-abd1-ae18b475959b')\"\n",
              "            title=\"Suggest charts\"\n",
              "            style=\"display:none;\">\n",
              "\n",
              "<svg xmlns=\"http://www.w3.org/2000/svg\" height=\"24px\"viewBox=\"0 0 24 24\"\n",
              "     width=\"24px\">\n",
              "    <g>\n",
              "        <path d=\"M19 3H5c-1.1 0-2 .9-2 2v14c0 1.1.9 2 2 2h14c1.1 0 2-.9 2-2V5c0-1.1-.9-2-2-2zM9 17H7v-7h2v7zm4 0h-2V7h2v10zm4 0h-2v-4h2v4z\"/>\n",
              "    </g>\n",
              "</svg>\n",
              "  </button>\n",
              "\n",
              "<style>\n",
              "  .colab-df-quickchart {\n",
              "      --bg-color: #E8F0FE;\n",
              "      --fill-color: #1967D2;\n",
              "      --hover-bg-color: #E2EBFA;\n",
              "      --hover-fill-color: #174EA6;\n",
              "      --disabled-fill-color: #AAA;\n",
              "      --disabled-bg-color: #DDD;\n",
              "  }\n",
              "\n",
              "  [theme=dark] .colab-df-quickchart {\n",
              "      --bg-color: #3B4455;\n",
              "      --fill-color: #D2E3FC;\n",
              "      --hover-bg-color: #434B5C;\n",
              "      --hover-fill-color: #FFFFFF;\n",
              "      --disabled-bg-color: #3B4455;\n",
              "      --disabled-fill-color: #666;\n",
              "  }\n",
              "\n",
              "  .colab-df-quickchart {\n",
              "    background-color: var(--bg-color);\n",
              "    border: none;\n",
              "    border-radius: 50%;\n",
              "    cursor: pointer;\n",
              "    display: none;\n",
              "    fill: var(--fill-color);\n",
              "    height: 32px;\n",
              "    padding: 0;\n",
              "    width: 32px;\n",
              "  }\n",
              "\n",
              "  .colab-df-quickchart:hover {\n",
              "    background-color: var(--hover-bg-color);\n",
              "    box-shadow: 0 1px 2px rgba(60, 64, 67, 0.3), 0 1px 3px 1px rgba(60, 64, 67, 0.15);\n",
              "    fill: var(--button-hover-fill-color);\n",
              "  }\n",
              "\n",
              "  .colab-df-quickchart-complete:disabled,\n",
              "  .colab-df-quickchart-complete:disabled:hover {\n",
              "    background-color: var(--disabled-bg-color);\n",
              "    fill: var(--disabled-fill-color);\n",
              "    box-shadow: none;\n",
              "  }\n",
              "\n",
              "  .colab-df-spinner {\n",
              "    border: 2px solid var(--fill-color);\n",
              "    border-color: transparent;\n",
              "    border-bottom-color: var(--fill-color);\n",
              "    animation:\n",
              "      spin 1s steps(1) infinite;\n",
              "  }\n",
              "\n",
              "  @keyframes spin {\n",
              "    0% {\n",
              "      border-color: transparent;\n",
              "      border-bottom-color: var(--fill-color);\n",
              "      border-left-color: var(--fill-color);\n",
              "    }\n",
              "    20% {\n",
              "      border-color: transparent;\n",
              "      border-left-color: var(--fill-color);\n",
              "      border-top-color: var(--fill-color);\n",
              "    }\n",
              "    30% {\n",
              "      border-color: transparent;\n",
              "      border-left-color: var(--fill-color);\n",
              "      border-top-color: var(--fill-color);\n",
              "      border-right-color: var(--fill-color);\n",
              "    }\n",
              "    40% {\n",
              "      border-color: transparent;\n",
              "      border-right-color: var(--fill-color);\n",
              "      border-top-color: var(--fill-color);\n",
              "    }\n",
              "    60% {\n",
              "      border-color: transparent;\n",
              "      border-right-color: var(--fill-color);\n",
              "    }\n",
              "    80% {\n",
              "      border-color: transparent;\n",
              "      border-right-color: var(--fill-color);\n",
              "      border-bottom-color: var(--fill-color);\n",
              "    }\n",
              "    90% {\n",
              "      border-color: transparent;\n",
              "      border-bottom-color: var(--fill-color);\n",
              "    }\n",
              "  }\n",
              "</style>\n",
              "\n",
              "  <script>\n",
              "    async function quickchart(key) {\n",
              "      const quickchartButtonEl =\n",
              "        document.querySelector('#' + key + ' button');\n",
              "      quickchartButtonEl.disabled = true;  // To prevent multiple clicks.\n",
              "      quickchartButtonEl.classList.add('colab-df-spinner');\n",
              "      try {\n",
              "        const charts = await google.colab.kernel.invokeFunction(\n",
              "            'suggestCharts', [key], {});\n",
              "      } catch (error) {\n",
              "        console.error('Error during call to suggestCharts:', error);\n",
              "      }\n",
              "      quickchartButtonEl.classList.remove('colab-df-spinner');\n",
              "      quickchartButtonEl.classList.add('colab-df-quickchart-complete');\n",
              "    }\n",
              "    (() => {\n",
              "      let quickchartButtonEl =\n",
              "        document.querySelector('#df-b221ccd8-cf82-4c03-abd1-ae18b475959b button');\n",
              "      quickchartButtonEl.style.display =\n",
              "        google.colab.kernel.accessAllowed ? 'block' : 'none';\n",
              "    })();\n",
              "  </script>\n",
              "</div>\n",
              "\n",
              "    </div>\n",
              "  </div>\n"
            ],
            "application/vnd.google.colaboratory.intrinsic+json": {
              "type": "dataframe",
              "variable_name": "df",
              "summary": "{\n  \"name\": \"df\",\n  \"rows\": 2500,\n  \"fields\": [\n    {\n      \"column\": \"Car ID\",\n      \"properties\": {\n        \"dtype\": \"number\",\n        \"std\": 721,\n        \"min\": 1,\n        \"max\": 2500,\n        \"num_unique_values\": 2500,\n        \"samples\": [\n          1448,\n          1115,\n          1065\n        ],\n        \"semantic_type\": \"\",\n        \"description\": \"\"\n      }\n    },\n    {\n      \"column\": \"Brand\",\n      \"properties\": {\n        \"dtype\": \"category\",\n        \"num_unique_values\": 7,\n        \"samples\": [\n          \"Tesla\",\n          \"BMW\",\n          \"Mercedes\"\n        ],\n        \"semantic_type\": \"\",\n        \"description\": \"\"\n      }\n    },\n    {\n      \"column\": \"Year\",\n      \"properties\": {\n        \"dtype\": \"number\",\n        \"std\": 6,\n        \"min\": 2000,\n        \"max\": 2023,\n        \"num_unique_values\": 24,\n        \"samples\": [\n          2023,\n          2015,\n          2016\n        ],\n        \"semantic_type\": \"\",\n        \"description\": \"\"\n      }\n    },\n    {\n      \"column\": \"Engine Size\",\n      \"properties\": {\n        \"dtype\": \"number\",\n        \"std\": 1.4320530900846977,\n        \"min\": 1.0,\n        \"max\": 6.0,\n        \"num_unique_values\": 51,\n        \"samples\": [\n          4.8,\n          3.1,\n          2.7\n        ],\n        \"semantic_type\": \"\",\n        \"description\": \"\"\n      }\n    },\n    {\n      \"column\": \"Fuel Type\",\n      \"properties\": {\n        \"dtype\": \"category\",\n        \"num_unique_values\": 4,\n        \"samples\": [\n          \"Electric\",\n          \"Hybrid\",\n          \"Petrol\"\n        ],\n        \"semantic_type\": \"\",\n        \"description\": \"\"\n      }\n    },\n    {\n      \"column\": \"Transmission\",\n      \"properties\": {\n        \"dtype\": \"category\",\n        \"num_unique_values\": 2,\n        \"samples\": [\n          \"Automatic\",\n          \"Manual\"\n        ],\n        \"semantic_type\": \"\",\n        \"description\": \"\"\n      }\n    },\n    {\n      \"column\": \"Mileage\",\n      \"properties\": {\n        \"dtype\": \"number\",\n        \"std\": 87919,\n        \"min\": 15,\n        \"max\": 299967,\n        \"num_unique_values\": 2490,\n        \"samples\": [\n          233308,\n          21518\n        ],\n        \"semantic_type\": \"\",\n        \"description\": \"\"\n      }\n    },\n    {\n      \"column\": \"Condition\",\n      \"properties\": {\n        \"dtype\": \"category\",\n        \"num_unique_values\": 3,\n        \"samples\": [\n          \"New\",\n          \"Used\"\n        ],\n        \"semantic_type\": \"\",\n        \"description\": \"\"\n      }\n    },\n    {\n      \"column\": \"Price\",\n      \"properties\": {\n        \"dtype\": \"number\",\n        \"std\": 27295.833455218137,\n        \"min\": 5011.27,\n        \"max\": 99982.59,\n        \"num_unique_values\": 2499,\n        \"samples\": [\n          70375.88,\n          27825.14\n        ],\n        \"semantic_type\": \"\",\n        \"description\": \"\"\n      }\n    },\n    {\n      \"column\": \"Model\",\n      \"properties\": {\n        \"dtype\": \"category\",\n        \"num_unique_values\": 28,\n        \"samples\": [\n          \"Model 3\",\n          \"3 Series\"\n        ],\n        \"semantic_type\": \"\",\n        \"description\": \"\"\n      }\n    }\n  ]\n}"
            }
          },
          "metadata": {},
          "execution_count": 38
        }
      ]
    },
    {
      "cell_type": "markdown",
      "source": [
        "**Mostrar as últimas 5 linhas do DataFrame**"
      ],
      "metadata": {
        "id": "tQSehVUEFc-8"
      }
    },
    {
      "cell_type": "code",
      "source": [
        "print(df.tail())"
      ],
      "metadata": {
        "id": "viCoIr7MFbCD",
        "outputId": "cebc457f-6f1c-49f1-b0f6-c78564e81e79",
        "colab": {
          "base_uri": "https://localhost:8080/"
        }
      },
      "execution_count": 37,
      "outputs": [
        {
          "output_type": "stream",
          "name": "stdout",
          "text": [
            "      Car ID   Brand  Year  Engine Size Fuel Type Transmission  Mileage  \\\n",
            "2495    2496    Audi  2020          2.4    Petrol    Automatic    22650   \n",
            "2496    2497    Audi  2001          5.7    Hybrid       Manual    77701   \n",
            "2497    2498    Ford  2021          1.1    Hybrid       Manual   272827   \n",
            "2498    2499    Audi  2002          4.5    Diesel       Manual   229164   \n",
            "2499    2500  Toyota  2005          4.6    Diesel    Automatic    80978   \n",
            "\n",
            "     Condition     Price   Model  \n",
            "2495  Like New  61384.10      Q5  \n",
            "2496  Like New  24710.35      A3  \n",
            "2497  Like New  29902.45  Fiesta  \n",
            "2498  Like New  46085.67      Q5  \n",
            "2499      Used  16594.14    RAV4  \n"
          ]
        }
      ]
    },
    {
      "cell_type": "markdown",
      "source": [
        "**Verificar se há valores ausentes**"
      ],
      "metadata": {
        "id": "mnRiAPS6BA8t"
      }
    },
    {
      "cell_type": "code",
      "source": [
        "print(df.isnull().sum())"
      ],
      "metadata": {
        "id": "tdwK2dee_q-w",
        "outputId": "01fe490e-f9e3-4f03-ce30-ad8f8766e65a",
        "colab": {
          "base_uri": "https://localhost:8080/"
        }
      },
      "execution_count": 7,
      "outputs": [
        {
          "output_type": "stream",
          "name": "stdout",
          "text": [
            "Car ID          0\n",
            "Brand           0\n",
            "Year            0\n",
            "Engine Size     0\n",
            "Fuel Type       0\n",
            "Transmission    0\n",
            "Mileage         0\n",
            "Condition       0\n",
            "Price           0\n",
            "Model           0\n",
            "dtype: int64\n"
          ]
        }
      ]
    },
    {
      "cell_type": "markdown",
      "source": [
        "**Remover linhas com valores ausentes**"
      ],
      "metadata": {
        "id": "E1TupE5iBCQ3"
      }
    },
    {
      "cell_type": "code",
      "source": [
        "df.dropna(inplace=True)"
      ],
      "metadata": {
        "id": "ESbT7WHD_s04"
      },
      "execution_count": 9,
      "outputs": []
    },
    {
      "cell_type": "markdown",
      "source": [
        "**Verificar a estrutura do dataset**"
      ],
      "metadata": {
        "id": "p0LLmplGBF-S"
      }
    },
    {
      "cell_type": "code",
      "source": [
        "df.info()"
      ],
      "metadata": {
        "id": "_SVKMAL2_zYi",
        "outputId": "f40dff42-1688-4e04-9345-d1f1c0bee8b5",
        "colab": {
          "base_uri": "https://localhost:8080/"
        }
      },
      "execution_count": 10,
      "outputs": [
        {
          "output_type": "stream",
          "name": "stdout",
          "text": [
            "<class 'pandas.core.frame.DataFrame'>\n",
            "RangeIndex: 2500 entries, 0 to 2499\n",
            "Data columns (total 10 columns):\n",
            " #   Column        Non-Null Count  Dtype  \n",
            "---  ------        --------------  -----  \n",
            " 0   Car ID        2500 non-null   int64  \n",
            " 1   Brand         2500 non-null   object \n",
            " 2   Year          2500 non-null   int64  \n",
            " 3   Engine Size   2500 non-null   float64\n",
            " 4   Fuel Type     2500 non-null   object \n",
            " 5   Transmission  2500 non-null   object \n",
            " 6   Mileage       2500 non-null   int64  \n",
            " 7   Condition     2500 non-null   object \n",
            " 8   Price         2500 non-null   float64\n",
            " 9   Model         2500 non-null   object \n",
            "dtypes: float64(2), int64(3), object(5)\n",
            "memory usage: 195.4+ KB\n"
          ]
        }
      ]
    },
    {
      "cell_type": "markdown",
      "source": [
        "**Resumo estatístico das variáveis numéricas**"
      ],
      "metadata": {
        "id": "U1Nfy7GaBIv-"
      }
    },
    {
      "cell_type": "code",
      "source": [
        "print(df.describe())"
      ],
      "metadata": {
        "id": "xnnKwLf2_16q",
        "outputId": "b1e9a513-982b-4701-a91d-8f9b9f760dbd",
        "colab": {
          "base_uri": "https://localhost:8080/"
        }
      },
      "execution_count": 11,
      "outputs": [
        {
          "output_type": "stream",
          "name": "stdout",
          "text": [
            "           Car ID       Year  Engine Size        Mileage         Price\n",
            "count  2500.00000  2500.0000  2500.000000    2500.000000   2500.000000\n",
            "mean   1250.50000  2011.6268     3.465240  149749.844800  52638.022532\n",
            "std     721.83216     6.9917     1.432053   87919.952034  27295.833455\n",
            "min       1.00000  2000.0000     1.000000      15.000000   5011.270000\n",
            "25%     625.75000  2005.0000     2.200000   71831.500000  28908.485000\n",
            "50%    1250.50000  2012.0000     3.400000  149085.000000  53485.240000\n",
            "75%    1875.25000  2018.0000     4.700000  225990.500000  75838.532500\n",
            "max    2500.00000  2023.0000     6.000000  299967.000000  99982.590000\n"
          ]
        }
      ]
    },
    {
      "cell_type": "markdown",
      "source": [
        "**Verificar os nomes das colunas no dataset**"
      ],
      "metadata": {
        "id": "2WJexmEgBNJH"
      }
    },
    {
      "cell_type": "code",
      "source": [
        "print(df.columns)"
      ],
      "metadata": {
        "id": "9bp2S5-dASm8",
        "outputId": "8b6f98e0-432e-4fb7-a065-571b82a10e82",
        "colab": {
          "base_uri": "https://localhost:8080/"
        }
      },
      "execution_count": 15,
      "outputs": [
        {
          "output_type": "stream",
          "name": "stdout",
          "text": [
            "Index(['Car ID', 'Brand', 'Year', 'Engine Size', 'Fuel Type', 'Transmission',\n",
            "       'Mileage', 'Condition', 'Price', 'Model'],\n",
            "      dtype='object')\n"
          ]
        }
      ]
    },
    {
      "cell_type": "markdown",
      "source": [
        "**Verificar o tipo de dado de cada coluna**"
      ],
      "metadata": {
        "id": "P3knhcErBQvw"
      }
    },
    {
      "cell_type": "code",
      "source": [
        "print(df.dtypes)"
      ],
      "metadata": {
        "id": "E-Tk256wAZy6",
        "outputId": "ca6c0ed6-aa6d-4de4-f952-d32144f2dfae",
        "colab": {
          "base_uri": "https://localhost:8080/"
        }
      },
      "execution_count": 17,
      "outputs": [
        {
          "output_type": "stream",
          "name": "stdout",
          "text": [
            "Car ID            int64\n",
            "Brand            object\n",
            "Year              int64\n",
            "Engine Size     float64\n",
            "Fuel Type        object\n",
            "Transmission     object\n",
            "Mileage           int64\n",
            "Condition        object\n",
            "Price           float64\n",
            "Model            object\n",
            "dtype: object\n"
          ]
        }
      ]
    },
    {
      "cell_type": "markdown",
      "source": [
        "**Criar o gráfico e Exibir o gráfico**"
      ],
      "metadata": {
        "id": "9KDrHUSoCcv2"
      }
    },
    {
      "cell_type": "code",
      "source": [
        "sns.countplot(data=df, x='Brand')\n",
        "plt.show()"
      ],
      "metadata": {
        "id": "fADSJr2hADeb",
        "outputId": "ecdecb64-ca19-444f-efe0-effe9ec61a2b",
        "colab": {
          "base_uri": "https://localhost:8080/",
          "height": 449
        }
      },
      "execution_count": 30,
      "outputs": [
        {
          "output_type": "display_data",
          "data": {
            "text/plain": [
              "<Figure size 640x480 with 1 Axes>"
            ],
            "image/png": "[encoded data removed]"
          },
          "metadata": {}
        }
      ]
    },
    {
      "cell_type": "markdown",
      "source": [
        "### **Atividade: Com base nos gráficos e análises realizadas, responda às seguintes perguntas:**\n",
        "**1. Quais padrões você observou nas variáveis numéricas? (exemplo: distribuição normal, outliers)**\n",
        "\n",
        "**R:** Nos dados analisados, as variáveis numéricas incluem Year, Engine, Mileage e Price. Observamos que:\n",
        "\n",
        "Distribuição: A variável Price apresenta uma ampla variação, com alguns valores significativamente mais altos, indicando a presença de outliers. Por exemplo, o preço do modelo Model Y (86374.33) é substancialmente maior do que os outros veículos, o que pode ser considerado um outlier.\n",
        "Tendência de Preço: É comum que o Price aumente conforme o Year do veículo aumenta, embora essa relação possa variar dependendo do tipo de combustível e da condição do carro.\n",
        "\n",
        "**2. Como estão distribuídas as variáveis categóricas? Alguma categoria se destaca em termos de frequência?**\n",
        "\n",
        "**R:** As variáveis categóricas incluem Fuel, Transmission, Condition e Model. Observamos que:\n",
        "\n",
        "A categoria de Fuel apresenta uma distribuição variada, com uma quantidade significativa de veículos Electric e Diesel, indicando uma tendência crescente em direção a veículos mais sustentáveis.\n",
        "Em relação à Condition, a maioria dos veículos é classificada como New, sugerindo que o dataset pode incluir uma seleção de veículos novos, um padrão importante a ser considerado nas análises.\n",
        "\n",
        "**3. Você identificou correlações entre variáveis numéricas? Qual pode ser a relação entre essas variáveis?**\n",
        "\n",
        "**R:** A análise das variáveis numéricas revelou que:\n",
        "\n",
        "Existe uma correlação negativa esperada entre Mileage e Price: quanto maior o Mileage, geralmente menor é o Price do veículo. Essa relação é comum no mercado de automóveis, onde a quilometragem elevada tende a resultar em um valor de revenda mais baixo.\n",
        "\n",
        "**4. Com base nos dados, quais são as principais conclusões que você pode tirar? O que essas conclusões indicam para o contexto do dataset escolhido?**\n",
        "\n",
        "**R:** As principais conclusões incluem:\n",
        "\n",
        "Tendências de Preço: O dataset sugere que veículos novos tendem a ter preços mais elevados, enquanto aqueles com alta quilometragem têm preços mais baixos, o que é uma expectativa lógica no mercado automotivo.\n",
        "Preferências de Combustível: A presença significativa de veículos elétricos, juntamente com uma tendência crescente de novos modelos, indica que o mercado pode estar se deslocando em direção a opções mais sustentáveis e ecológicas.\n",
        "Informações para Vendedores e Compradores: As informações contidas neste dataset podem ser valiosas tanto para vendedores que desejam precificar adequadamente seus veículos quanto para compradores que procuram entender o valor de mercado com base em ano, condição e tipo de combustível.\n"
      ],
      "metadata": {
        "id": "UKBIan7aDJRk"
      }
    },
    {
      "cell_type": "markdown",
      "source": [],
      "metadata": {
        "id": "ZJi8QZsTGnhg"
      }
    }
  ]
}